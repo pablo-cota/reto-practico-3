{
 "cells": [
  {
   "cell_type": "markdown",
   "metadata": {},
   "source": [
    "\n",
    "Tecnológico Nacional de México campus Colima\n",
    "Maestría en Sistemas Computacionales\n",
    "Tecnologías de programación\n",
    "Actividad - \"Colas multiproductor y multiconsumidor\"\n",
    "Docente: Patricia Elizabeth Figueroa Millán\n",
    "Elaborado por: Pablo Alejandro Cota Sánchez"
   ]
  },
  {
   "cell_type": "markdown",
   "metadata": {},
   "source": [
    "Las colas de tareas administran el trabajo en segundo plano que debe ejecutarse fuera del ciclo habitual de solicitud-respuesta HTTP.\n",
    "\n",
    "La cola de tareas estándar de facto de Python es Celery. Los otros proyectos de cola de tareas que surgen tienden a provenir de la perspectiva de que Celery es demasiado complicado para casos de uso simples. Mi recomendación es poner el esfuerzo en la curva de aprendizaje razonable de Celery, ya que vale la pena el tiempo que se necesita para comprender cómo usar el proyecto.\n",
    "\n",
    "La cola de tareas distribuidas de Celery es la biblioteca de Python más utilizada para manejar tareas asíncronas y programación.\n",
    "\n",
    "RQ (Redis Queue) es una biblioteca Python simple para poner en cola trabajos y procesarlos en segundo plano con los trabajadores. RQ está respaldado por Redis y está diseñado para tener una barrera de entrada baja.\n",
    "\n",
    "Capataz es una cola distribuida simple y liviana para manejar grandes volúmenes de tareas únicas.\n",
    "\n",
    "Huey es una cola de tareas basada en Redis que tiene como objetivo proporcionar un marco simple pero flexible para ejecutar tareas. Huey admite la programación de tareas, tareas repetitivas similares a crontab, almacenamiento de resultados y reintentos automáticos en caso de falla.\n",
    "\n",
    "Kuyruk es un sistema de cola de tareas simple y fácil de usar construido sobre RabbitMQ. Aunque el conjunto de funciones es pequeño, las extensiones pueden agregar nuevas funciones.\n",
    "\n",
    "Dramatiq es una alternativa rápida y confiable al apio. Es compatible con RabbitMQ y Redis como agentes de mensajes.\n",
    "\n",
    "zanahoria django es una cola de tareas simple específicamente para Django que puede servir cuando Celery es excesivo.\n",
    "\n",
    "tasq es una cola de tareas sin intermediarios para casos de uso simples. No se recomienda para producción a menos que se realicen más pruebas y desarrollo."
   ]
  },
  {
   "cell_type": "markdown",
   "metadata": {},
   "source": [
    "Referencias:\n",
    "\n",
    "1.- https://www.geeksforgeeks.org/queue-in-python/ \n",
    "2.- https://www.comocrearunapaginaweb.com.mx/colas-de-tareas-lenguaje-python/ \n"
   ]
  }
 ],
 "metadata": {
  "language_info": {
   "name": "python"
  },
  "orig_nbformat": 4
 },
 "nbformat": 4,
 "nbformat_minor": 2
}
